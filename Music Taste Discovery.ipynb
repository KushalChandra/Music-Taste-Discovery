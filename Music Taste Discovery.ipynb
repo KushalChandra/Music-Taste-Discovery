{
 "cells": [
  {
   "cell_type": "markdown",
   "metadata": {},
   "source": [
    "# Music Taste Discovery"
   ]
  },
  {
   "cell_type": "markdown",
   "metadata": {},
   "source": [
    "Importing confidential variables"
   ]
  },
  {
   "cell_type": "code",
   "execution_count": 3,
   "metadata": {},
   "outputs": [],
   "source": [
    "from spotify_cred import client_id, client_secret, user_id"
   ]
  },
  {
   "cell_type": "markdown",
   "metadata": {},
   "source": [
    "Importing important libraries to get data, clean it, and make it uasable for analysis"
   ]
  },
  {
   "cell_type": "code",
   "execution_count": 2,
   "metadata": {},
   "outputs": [],
   "source": [
    "import requests                                                        # For making HTTP requests to the Spotify API\n",
    "\n",
    "import spotipy\n",
    "from spotipy.oauth2 import SpotifyClientCredentials                    # To access authorised Spotify (public) data"
   ]
  },
  {
   "cell_type": "code",
   "execution_count": null,
   "metadata": {},
   "outputs": [],
   "source": [
    "import pandas as pd                                                    # To analyse/visualize data in a tabular format"
   ]
  },
  {
   "cell_type": "code",
   "execution_count": null,
   "metadata": {},
   "outputs": [],
   "source": [
    "client_credentials_manager = SpotifyClientCredentials(client_id=client_id, client_secret=client_secret)\n",
    "\n",
    "sp = spotipy.Spotify(client_credentials_manager=client_credentials_manager) #spotify object to access API"
   ]
  },
  {
   "cell_type": "code",
   "execution_count": 7,
   "metadata": {},
   "outputs": [],
   "source": [
    "num_playlist = 22                                                      # Number of playlist you want to pull\n",
    "\n",
    "output_type = \"application/json\"                                       # Output format from Spotify API\n",
    "content_type = \"application/json\"\n",
    "\n",
    "# Change auth_token before running code\n",
    "auth_token = \"\"\n",
    "\n",
    "\n",
    "query_headers = {\"Accept\" : output_type,                               # Headers for the requests.get() method\n",
    "                 \"Content-Type\" : content_type,\n",
    "                 \"Authorization\" : f'Bearer {auth_token}'}"
   ]
  },
  {
   "cell_type": "markdown",
   "metadata": {},
   "source": [
    "### Playlists"
   ]
  },
  {
   "cell_type": "code",
   "execution_count": null,
   "metadata": {},
   "outputs": [],
   "source": [
    "endpoint_url = f'https://api.spotify.com/v1/users/{user_id}/playlists' # Endpoint url of interest (user playlists)\n",
    "\n",
    "query = f'{endpoint_url}?limit={num_playlist}'                         # Basic url query\n",
    "\n",
    "response = requests.get(query,                                         # API call\n",
    "               headers = query_headers)\n",
    "response"
   ]
  },
  {
   "cell_type": "code",
   "execution_count": null,
   "metadata": {},
   "outputs": [],
   "source": [
    "json_response = response.json()                                        # Creating dict using .json() method"
   ]
  },
  {
   "cell_type": "code",
   "execution_count": null,
   "metadata": {},
   "outputs": [],
   "source": [
    "# Write the output response to file\n",
    "with open('kc941 playlists.json', 'w', encoding='utf-8') as file:\n",
    "    json.dump(json_response, file, ensure_ascii=False, indent=4)"
   ]
  },
  {
   "cell_type": "code",
   "execution_count": null,
   "metadata": {},
   "outputs": [],
   "source": [
    "# Opening JSON file\n",
    "f = open('kc941 playlists.json',)\n",
    "  \n",
    "# returns JSON object as \n",
    "# a dictionary\n",
    "spotify_playlists = json.load(f)\n",
    "\n",
    "# Closing file\n",
    "f.close()"
   ]
  },
  {
   "cell_type": "code",
   "execution_count": null,
   "metadata": {},
   "outputs": [],
   "source": [
    "playlist_simplified_dict = {}\n",
    "\n",
    "\n",
    "# iterating over number of playlist\n",
    "# playlist id becomes key, playlist uri and name become values\n",
    "\n",
    "for i in range(len(spotify_playlists['items'])):\n",
    "    playlist_simplified_dict[spotify_playlists['items'][i]['id']] = [spotify_playlists['items'][i]['uri'], \n",
    "                                                                     spotify_playlists['items'][i]['name']]\n",
    "\n",
    "\n",
    "# converting playlist dictionary to DataFrame\n",
    "playlist_df = pd.DataFrame.from_dict(playlist_simplified_dict, \n",
    "                                     orient = 'index', columns = ['uri', 'playlist_name'])\n",
    "\n",
    "\n",
    "playlist_df['id'] = playlist_df.index                                # Default playlist index is name, making a column from index\n",
    "playlist_df.index = [x for x in range(len(playlist_df))]             # Creating new index\n",
    "\n",
    "\n",
    "\n",
    "playlist_df"
   ]
  },
  {
   "cell_type": "markdown",
   "metadata": {},
   "source": [
    "### Playlist Tracks"
   ]
  },
  {
   "cell_type": "code",
   "execution_count": null,
   "metadata": {},
   "outputs": [],
   "source": [
    "dance_away = sp.playlist_tracks(playlist_id = '5bDiAmx1M4aFOiQlix5Oa2')    # Testing with just 1 playlist"
   ]
  },
  {
   "cell_type": "code",
   "execution_count": null,
   "metadata": {},
   "outputs": [],
   "source": [
    "tracks_dict = {}\n",
    "\n",
    "for i in range(len(dance_away['items'])):\n",
    "    tracks_dict[dance_away['items'][i]['track']['id']] = [dance_away['items'][i]['track']['uri'], dance_away['items'][i]['track']['name']]\n",
    "\n",
    "tracks_df = pd.DataFrame.from_dict(tracks_dict, orient = 'index', columns = ['uri', 'track_name'])\n",
    "\n",
    "\n",
    "tracks_df['id'] = tracks_df.index\n",
    "tracks_df.index = [x for x in range(len(tracks_df))]\n",
    "\n",
    "tracks_df"
   ]
  },
  {
   "cell_type": "markdown",
   "metadata": {},
   "source": [
    "### Track Features and Track Info"
   ]
  },
  {
   "cell_type": "code",
   "execution_count": null,
   "metadata": {},
   "outputs": [],
   "source": [
    "track_features_dict = {}\n",
    "for k in tracks_dict:\n",
    "    track_features_dict[k] = sp.audio_features(k)\n",
    "\n",
    "track_features_df = pd.DataFrame.from_dict(track_features_dict, orient ='index', columns = ['features'])\n",
    "\n",
    "track_features_df['id'] = track_features_df.index\n",
    "track_features_df.index = [x for x in range(len(track_features_df))]\n",
    "\n",
    "track_features_df"
   ]
  },
  {
   "cell_type": "code",
   "execution_count": null,
   "metadata": {},
   "outputs": [],
   "source": [
    "track_features_df_2 = pd.concat([track_features_df.drop(['features', 'id'], axis = 1), \n",
    "                                 track_features_df['features'].apply(pd.Series)], axis = 1)\n",
    "\n",
    "track_features_df_3 = track_features_df_2[['id', 'uri', 'acousticness', 'danceability', 'energy', \n",
    "                                          'instrumentalness', 'liveness', 'loudness', 'speechiness', \n",
    "                                          'tempo', 'valence']]\n",
    "\n",
    "track_details_df = pd.merge(tracks_df, track_features_df_3, how = 'left', on = ['id','uri'])\n",
    "\n",
    "track_details_df"
   ]
  },
  {
   "cell_type": "code",
   "execution_count": null,
   "metadata": {},
   "outputs": [],
   "source": []
  },
  {
   "cell_type": "code",
   "execution_count": null,
   "metadata": {},
   "outputs": [],
   "source": []
  },
  {
   "cell_type": "code",
   "execution_count": null,
   "metadata": {},
   "outputs": [],
   "source": []
  },
  {
   "cell_type": "code",
   "execution_count": null,
   "metadata": {},
   "outputs": [],
   "source": []
  },
  {
   "cell_type": "code",
   "execution_count": null,
   "metadata": {},
   "outputs": [],
   "source": []
  },
  {
   "cell_type": "code",
   "execution_count": null,
   "metadata": {},
   "outputs": [],
   "source": []
  }
 ],
 "metadata": {
  "kernelspec": {
   "display_name": "Python 3",
   "language": "python",
   "name": "python3"
  },
  "language_info": {
   "codemirror_mode": {
    "name": "ipython",
    "version": 3
   },
   "file_extension": ".py",
   "mimetype": "text/x-python",
   "name": "python",
   "nbconvert_exporter": "python",
   "pygments_lexer": "ipython3",
   "version": "3.8.3"
  }
 },
 "nbformat": 4,
 "nbformat_minor": 4
}
